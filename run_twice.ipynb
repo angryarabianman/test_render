{
 "cells": [
  {
   "metadata": {
    "ExecuteTime": {
     "end_time": "2025-06-18T09:50:41.639555Z",
     "start_time": "2025-06-18T09:50:41.636614Z"
    }
   },
   "cell_type": "code",
   "source": "",
   "id": "7a0406dcc842444e",
   "outputs": [],
   "execution_count": null
  },
  {
   "metadata": {},
   "cell_type": "markdown",
   "source": "markdwon cell",
   "id": "d1c460b42bb86490"
  },
  {
   "metadata": {
    "ExecuteTime": {
     "end_time": "2025-06-18T11:04:56.256139Z",
     "start_time": "2025-06-18T11:04:56.164057Z"
    }
   },
   "cell_type": "code",
   "source": [
    "def myfunc():\n",
    "    print(\"123\")\n",
    "\n",
    "myfunc()"
   ],
   "id": "e6a7c6464bd2b6bc",
   "outputs": [
    {
     "name": "stdout",
     "output_type": "stream",
     "text": [
      "123\n"
     ]
    }
   ],
   "execution_count": 1
  },
  {
   "metadata": {
    "ExecuteTime": {
     "end_time": "2025-06-18T09:51:25.219583Z",
     "start_time": "2025-06-18T09:51:25.216264Z"
    }
   },
   "cell_type": "code",
   "source": [
    "def anotherfunc():\n",
    "    print(\"something\")"
   ],
   "id": "4a5381e949af0752",
   "outputs": [],
   "execution_count": 126
  },
  {
   "metadata": {
    "ExecuteTime": {
     "end_time": "2025-06-18T09:53:18.807351Z",
     "start_time": "2025-06-18T09:53:15.184129Z"
    }
   },
   "cell_type": "code",
   "source": "!hostname",
   "id": "439956134c1f0317",
   "outputs": [
    {
     "name": "stdout",
     "output_type": "stream",
     "text": [
      "srv-d1982jali9vc739nm84g-hibernate-97fddd966-xwxc5\r\n"
     ]
    }
   ],
   "execution_count": 3
  },
  {
   "metadata": {
    "ExecuteTime": {
     "end_time": "2025-06-18T09:53:13.760418Z",
     "start_time": "2025-06-18T09:53:13.757780Z"
    }
   },
   "cell_type": "code",
   "source": [
    "def func2():\n",
    "    print(\"!23\")"
   ],
   "id": "a18981812917d2d3",
   "outputs": [],
   "execution_count": 2
  }
 ],
 "metadata": {
  "kernelspec": {
   "display_name": "Python 3",
   "language": "python",
   "name": "python3"
  },
  "language_info": {
   "codemirror_mode": {
    "name": "ipython",
    "version": 2
   },
   "file_extension": ".py",
   "mimetype": "text/x-python",
   "name": "python",
   "nbconvert_exporter": "python",
   "pygments_lexer": "ipython2",
   "version": "2.7.6"
  }
 },
 "nbformat": 4,
 "nbformat_minor": 5
}
