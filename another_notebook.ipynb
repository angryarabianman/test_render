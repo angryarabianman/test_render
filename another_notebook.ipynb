{
 "cells": [
  {
   "cell_type": "code",
   "id": "initial_id",
   "metadata": {
    "collapsed": true,
    "ExecuteTime": {
     "end_time": "2025-06-18T11:35:37.977800Z",
     "start_time": "2025-06-18T11:35:37.974842Z"
    }
   },
   "source": [
    "def hello_world():\n",
    "    print(\"Hello World!\")"
   ],
   "outputs": [],
   "execution_count": 17
  },
  {
   "metadata": {
    "ExecuteTime": {
     "end_time": "2025-06-18T11:35:27.641563Z",
     "start_time": "2025-06-18T11:35:27.639088Z"
    }
   },
   "cell_type": "code",
   "source": "hello_world()",
   "id": "d690e1808d002d8c",
   "outputs": [
    {
     "name": "stdout",
     "output_type": "stream",
     "text": [
      "Hello World!\n"
     ]
    }
   ],
   "execution_count": 2
  },
  {
   "metadata": {},
   "cell_type": "markdown",
   "source": "Some text",
   "id": "d04779309fb0feb6"
  },
  {
   "metadata": {
    "ExecuteTime": {
     "end_time": "2025-06-18T11:35:27.654074Z",
     "start_time": "2025-06-18T11:35:27.652187Z"
    }
   },
   "cell_type": "code",
   "source": "hello_world()",
   "id": "7986c78bb27b1548",
   "outputs": [
    {
     "name": "stdout",
     "output_type": "stream",
     "text": [
      "Hello World!\n"
     ]
    }
   ],
   "execution_count": 3
  },
  {
   "metadata": {
    "ExecuteTime": {
     "end_time": "2025-06-18T11:35:34.622991Z",
     "start_time": "2025-06-18T11:35:34.619272Z"
    }
   },
   "cell_type": "code",
   "source": [
    "def hello_world_twice():\n",
    "    hello_world()\n",
    "    hello_world()\n"
   ],
   "id": "51343056d53802e4",
   "outputs": [],
   "execution_count": 16
  },
  {
   "metadata": {
    "ExecuteTime": {
     "end_time": "2025-06-18T11:35:27.672713Z",
     "start_time": "2025-06-18T11:35:27.671054Z"
    }
   },
   "cell_type": "code",
   "source": "hello_world_twice()",
   "id": "ab0d312df411cc93",
   "outputs": [
    {
     "name": "stdout",
     "output_type": "stream",
     "text": [
      "Hello World!\n",
      "Hello World!\n"
     ]
    }
   ],
   "execution_count": 5
  },
  {
   "metadata": {
    "ExecuteTime": {
     "end_time": "2025-06-18T11:35:27.795710Z",
     "start_time": "2025-06-18T11:35:27.679022Z"
    }
   },
   "cell_type": "code",
   "source": "!hostname",
   "id": "4cacbddf6fc2fa29",
   "outputs": [
    {
     "name": "stdout",
     "output_type": "stream",
     "text": [
      "CY-UNIT-0228\r\n"
     ]
    }
   ],
   "execution_count": 6
  },
  {
   "metadata": {
    "ExecuteTime": {
     "end_time": "2025-06-18T11:35:27.925517Z",
     "start_time": "2025-06-18T11:35:27.803495Z"
    }
   },
   "cell_type": "code",
   "source": "!pwd",
   "id": "304e9a9ce8b9852c",
   "outputs": [
    {
     "name": "stdout",
     "output_type": "stream",
     "text": [
      "/Users/ilya.misiukevich/PycharmProjects/test_render\r\n"
     ]
    }
   ],
   "execution_count": 7
  },
  {
   "metadata": {
    "ExecuteTime": {
     "end_time": "2025-06-18T11:35:28.053701Z",
     "start_time": "2025-06-18T11:35:27.932933Z"
    }
   },
   "cell_type": "code",
   "source": "!hostname\n",
   "id": "788db016369f4b93",
   "outputs": [
    {
     "name": "stdout",
     "output_type": "stream",
     "text": [
      "CY-UNIT-0228\r\n"
     ]
    }
   ],
   "execution_count": 8
  },
  {
   "metadata": {
    "ExecuteTime": {
     "end_time": "2025-06-18T11:35:28.188258Z",
     "start_time": "2025-06-18T11:35:28.063570Z"
    }
   },
   "cell_type": "code",
   "source": "!hostname",
   "id": "6c53a0010abfa54f",
   "outputs": [
    {
     "name": "stdout",
     "output_type": "stream",
     "text": [
      "CY-UNIT-0228\r\n"
     ]
    }
   ],
   "execution_count": 9
  },
  {
   "metadata": {
    "ExecuteTime": {
     "end_time": "2025-06-18T11:35:28.196774Z",
     "start_time": "2025-06-18T11:35:28.194398Z"
    }
   },
   "cell_type": "code",
   "source": [
    "def hello_world_twice():\n",
    "    print(\"123\")"
   ],
   "id": "e41d091d073a35c8",
   "outputs": [],
   "execution_count": 10
  },
  {
   "metadata": {
    "ExecuteTime": {
     "end_time": "2025-06-18T11:35:28.207989Z",
     "start_time": "2025-06-18T11:35:28.205683Z"
    }
   },
   "cell_type": "code",
   "source": "hello_world_twice()",
   "id": "faa612fc62dd27e7",
   "outputs": [
    {
     "name": "stdout",
     "output_type": "stream",
     "text": [
      "123\n"
     ]
    }
   ],
   "execution_count": 11
  },
  {
   "metadata": {
    "ExecuteTime": {
     "end_time": "2025-06-18T11:50:28.829655Z",
     "start_time": "2025-06-18T11:50:28.826535Z"
    }
   },
   "cell_type": "code",
   "source": [
    " def hello_world():\n",
    "    print(\"213123\")"
   ],
   "id": "6fe7e3c019e9553f",
   "outputs": [],
   "execution_count": 19
  },
  {
   "metadata": {
    "ExecuteTime": {
     "end_time": "2025-06-18T11:35:31.885605Z",
     "start_time": "2025-06-18T11:35:31.882331Z"
    }
   },
   "cell_type": "code",
   "source": [
    "def new_function():\n",
    "    print(\"smth\")\n",
    "\n",
    "new_function()"
   ],
   "id": "aa0a9c15e02cd35f",
   "outputs": [
    {
     "name": "stdout",
     "output_type": "stream",
     "text": [
      "smth\n"
     ]
    }
   ],
   "execution_count": 15
  }
 ],
 "metadata": {
  "kernelspec": {
   "display_name": "Python 3",
   "language": "python",
   "name": "python3"
  },
  "language_info": {
   "codemirror_mode": {
    "name": "ipython",
    "version": 2
   },
   "file_extension": ".py",
   "mimetype": "text/x-python",
   "name": "python",
   "nbconvert_exporter": "python",
   "pygments_lexer": "ipython2",
   "version": "2.7.6"
  }
 },
 "nbformat": 4,
 "nbformat_minor": 5
}
