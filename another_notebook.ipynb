{
 "cells": [
  {
   "cell_type": "code",
   "id": "initial_id",
   "metadata": {
    "collapsed": true,
    "ExecuteTime": {
     "end_time": "2025-06-18T09:22:36.698439Z",
     "start_time": "2025-06-18T09:22:36.628236Z"
    }
   },
   "source": [
    "def hello_world():\n",
    "    print(\"Hello World!\")"
   ],
   "outputs": [],
   "execution_count": 1
  },
  {
   "metadata": {
    "ExecuteTime": {
     "end_time": "2025-06-18T09:22:38.798547Z",
     "start_time": "2025-06-18T09:22:38.707723Z"
    }
   },
   "cell_type": "code",
   "source": "hello_world()",
   "id": "d690e1808d002d8c",
   "outputs": [
    {
     "name": "stdout",
     "output_type": "stream",
     "text": [
      "Hello World!\n"
     ]
    }
   ],
   "execution_count": 2
  },
  {
   "metadata": {},
   "cell_type": "markdown",
   "source": "Some text",
   "id": "d04779309fb0feb6"
  },
  {
   "metadata": {
    "ExecuteTime": {
     "end_time": "2025-06-18T09:24:04.888624Z",
     "start_time": "2025-06-18T09:24:04.885226Z"
    }
   },
   "cell_type": "code",
   "source": "hello_world()",
   "id": "7986c78bb27b1548",
   "outputs": [
    {
     "name": "stdout",
     "output_type": "stream",
     "text": [
      "Hello World!\n"
     ]
    }
   ],
   "execution_count": 3
  },
  {
   "metadata": {
    "ExecuteTime": {
     "end_time": "2025-06-18T09:24:31.070166Z",
     "start_time": "2025-06-18T09:24:31.066744Z"
    }
   },
   "cell_type": "code",
   "source": [
    "def hello_world_twice():\n",
    "    hello_world()\n",
    "    hello_world()\n"
   ],
   "id": "51343056d53802e4",
   "outputs": [],
   "execution_count": 4
  },
  {
   "metadata": {
    "ExecuteTime": {
     "end_time": "2025-06-18T09:24:32.699727Z",
     "start_time": "2025-06-18T09:24:32.696312Z"
    }
   },
   "cell_type": "code",
   "source": "hello_world_twice()",
   "id": "ab0d312df411cc93",
   "outputs": [
    {
     "name": "stdout",
     "output_type": "stream",
     "text": [
      "Hello World!\n",
      "Hello World!\n"
     ]
    }
   ],
   "execution_count": 5
  },
  {
   "metadata": {
    "ExecuteTime": {
     "end_time": "2025-06-18T09:50:16.807985Z",
     "start_time": "2025-06-18T09:50:11.588659Z"
    }
   },
   "cell_type": "code",
   "source": "!hostname",
   "id": "4cacbddf6fc2fa29",
   "outputs": [
    {
     "name": "stdout",
     "output_type": "stream",
     "text": [
      "srv-d1982jali9vc739nm84g-hibernate-97fddd966-xwxc5\r\n"
     ]
    }
   ],
   "execution_count": 12
  },
  {
   "metadata": {
    "ExecuteTime": {
     "end_time": "2025-06-18T09:49:07.298945Z",
     "start_time": "2025-06-18T09:49:00.201807Z"
    }
   },
   "cell_type": "code",
   "source": "!pwd",
   "id": "304e9a9ce8b9852c",
   "outputs": [
    {
     "name": "stdout",
     "output_type": "stream",
     "text": [
      "/home/jovyan\r\n"
     ]
    }
   ],
   "execution_count": 8
  },
  {
   "metadata": {
    "ExecuteTime": {
     "end_time": "2025-06-18T09:26:40.636015Z",
     "start_time": "2025-06-18T09:26:40.514903Z"
    }
   },
   "cell_type": "code",
   "source": "!hostname\n",
   "id": "788db016369f4b93",
   "outputs": [
    {
     "name": "stdout",
     "output_type": "stream",
     "text": [
      "CY-UNIT-0228\r\n"
     ]
    }
   ],
   "execution_count": 1
  },
  {
   "metadata": {
    "ExecuteTime": {
     "end_time": "2025-06-18T09:49:12.914929Z",
     "start_time": "2025-06-18T09:49:07.307735Z"
    }
   },
   "cell_type": "code",
   "source": "!hostname",
   "id": "6c53a0010abfa54f",
   "outputs": [
    {
     "name": "stdout",
     "output_type": "stream",
     "text": [
      "srv-d1982jali9vc739nm84g-hibernate-97fddd966-xwxc5\r\n"
     ]
    }
   ],
   "execution_count": 9
  },
  {
   "metadata": {
    "ExecuteTime": {
     "end_time": "2025-06-18T09:50:49.225092Z",
     "start_time": "2025-06-18T09:50:49.221751Z"
    }
   },
   "cell_type": "code",
   "source": [
    "def hello_world_twice():\n",
    "    print(\"123\")"
   ],
   "id": "e41d091d073a35c8",
   "outputs": [],
   "execution_count": 13
  }
 ],
 "metadata": {
  "kernelspec": {
   "display_name": "Python 3",
   "language": "python",
   "name": "python3"
  },
  "language_info": {
   "codemirror_mode": {
    "name": "ipython",
    "version": 2
   },
   "file_extension": ".py",
   "mimetype": "text/x-python",
   "name": "python",
   "nbconvert_exporter": "python",
   "pygments_lexer": "ipython2",
   "version": "2.7.6"
  }
 },
 "nbformat": 4,
 "nbformat_minor": 5
}
