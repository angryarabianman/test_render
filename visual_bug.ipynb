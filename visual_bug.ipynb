{
 "cells": [
  {
   "cell_type": "code",
   "id": "initial_id",
   "metadata": {
    "collapsed": true,
    "ExecuteTime": {
     "end_time": "2025-06-18T11:33:16.017341Z",
     "start_time": "2025-06-18T11:33:16.014170Z"
    }
   },
   "source": [
    "def hello_world():\n",
    "    print(\"Hello World!\")"
   ],
   "outputs": [],
   "execution_count": 8
  },
  {
   "metadata": {
    "ExecuteTime": {
     "end_time": "2025-06-18T11:33:08.762376Z",
     "start_time": "2025-06-18T11:33:08.759995Z"
    }
   },
   "cell_type": "code",
   "source": "hello_world()",
   "id": "d690e1808d002d8c",
   "outputs": [
    {
     "name": "stdout",
     "output_type": "stream",
     "text": [
      "Hello World!\n"
     ]
    }
   ],
   "execution_count": 2
  },
  {
   "metadata": {},
   "cell_type": "markdown",
   "source": "Some text",
   "id": "d04779309fb0feb6"
  },
  {
   "metadata": {
    "ExecuteTime": {
     "end_time": "2025-06-18T11:33:08.777488Z",
     "start_time": "2025-06-18T11:33:08.775812Z"
    }
   },
   "cell_type": "code",
   "source": "",
   "id": "dc1b4ad549c0200d",
   "outputs": [],
   "execution_count": null
  },
  {
   "metadata": {
    "ExecuteTime": {
     "end_time": "2025-06-18T11:33:08.795393Z",
     "start_time": "2025-06-18T11:33:08.793761Z"
    }
   },
   "cell_type": "code",
   "source": "",
   "id": "69c87e5a243c0f9e",
   "outputs": [],
   "execution_count": null
  },
  {
   "metadata": {
    "ExecuteTime": {
     "end_time": "2025-06-18T11:33:08.802263Z",
     "start_time": "2025-06-18T11:33:08.800931Z"
    }
   },
   "cell_type": "code",
   "source": "",
   "id": "501314c752981ec1",
   "outputs": [],
   "execution_count": null
  },
  {
   "metadata": {
    "ExecuteTime": {
     "end_time": "2025-06-18T11:33:08.806820Z",
     "start_time": "2025-06-18T11:33:08.805393Z"
    }
   },
   "cell_type": "code",
   "source": "",
   "id": "25c934cce0b2b20c",
   "outputs": [],
   "execution_count": null
  },
  {
   "metadata": {
    "ExecuteTime": {
     "end_time": "2025-06-18T11:33:08.811351Z",
     "start_time": "2025-06-18T11:33:08.809887Z"
    }
   },
   "cell_type": "code",
   "source": "",
   "id": "38cb231ff8c4b66d",
   "outputs": [],
   "execution_count": null
  },
  {
   "metadata": {
    "ExecuteTime": {
     "end_time": "2025-06-18T11:33:08.815619Z",
     "start_time": "2025-06-18T11:33:08.814170Z"
    }
   },
   "cell_type": "code",
   "source": "",
   "id": "1b42bfc2755afeae",
   "outputs": [],
   "execution_count": null
  },
  {
   "metadata": {
    "ExecuteTime": {
     "end_time": "2025-06-18T11:33:14.649495Z",
     "start_time": "2025-06-18T11:33:14.645745Z"
    }
   },
   "cell_type": "code",
   "source": [
    "def new_function():\n",
    "    print(\"smth\")\n",
    "\n",
    "new_function()"
   ],
   "id": "aa0a9c15e02cd35f",
   "outputs": [
    {
     "name": "stdout",
     "output_type": "stream",
     "text": [
      "smth\n"
     ]
    }
   ],
   "execution_count": 7
  },
  {
   "metadata": {
    "ExecuteTime": {
     "end_time": "2025-06-18T11:33:08.836159Z",
     "start_time": "2025-06-18T11:33:08.834404Z"
    }
   },
   "cell_type": "code",
   "source": [
    "def new_function():\n",
    "    print(\"smth\")"
   ],
   "id": "1fa902dd2919e86e",
   "outputs": [],
   "execution_count": 4
  },
  {
   "metadata": {
    "ExecuteTime": {
     "end_time": "2025-06-18T11:33:08.851684Z",
     "start_time": "2025-06-18T11:33:08.850177Z"
    }
   },
   "cell_type": "code",
   "source": "",
   "id": "5cf111ff5feeef2b",
   "outputs": [],
   "execution_count": null
  },
  {
   "metadata": {
    "ExecuteTime": {
     "end_time": "2025-06-18T11:33:08.862343Z",
     "start_time": "2025-06-18T11:33:08.860904Z"
    }
   },
   "cell_type": "code",
   "source": "",
   "id": "df1ee4f7df4bda01",
   "outputs": [],
   "execution_count": null
  }
 ],
 "metadata": {
  "kernelspec": {
   "display_name": "Python 3",
   "language": "python",
   "name": "python3"
  },
  "language_info": {
   "codemirror_mode": {
    "name": "ipython",
    "version": 2
   },
   "file_extension": ".py",
   "mimetype": "text/x-python",
   "name": "python",
   "nbconvert_exporter": "python",
   "pygments_lexer": "ipython2",
   "version": "2.7.6"
  }
 },
 "nbformat": 4,
 "nbformat_minor": 5
}
