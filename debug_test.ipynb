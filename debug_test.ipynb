{
 "cells": [
  {
   "metadata": {},
   "cell_type": "markdown",
   "source": [
    "# Segment Tree Implementation\n",
    "A Segment Tree is a data structure that allows for efficient range queries and updates in an array. This implementation includes:\n",
    "1. Building the segment tree\n",
    "2. Range sum queries\n",
    "3. Point updates"
   ],
   "id": "76e05fd36012349e"
  },
  {
   "metadata": {
    "ExecuteTime": {
     "end_time": "2025-06-18T10:03:00.693315Z",
     "start_time": "2025-06-18T10:02:58.803271Z"
    }
   },
   "cell_type": "code",
   "source": [
    "class SegmentTree:\n",
    "    def __init__(self, arr):\n",
    "        self.n = len(arr)\n",
    "        self.tree = [0] * (4 * self.n)\n",
    "        self.build(arr, 0, 0, self.n - 1)\n",
    "\n",
    "    def build(self, arr, node, start, end):\n",
    "        if start == end:\n",
    "            self.tree[node] = arr[start]\n",
    "            return\n",
    "\n",
    "        mid = (start + end) // 2\n",
    "        self.build(arr, 2 * node + 1, start, mid)\n",
    "        self.build(arr, 2 * node + 2, mid + 1, end)\n",
    "        self.tree[node] = self.tree[2 * node + 1] + self.tree[2 * node + 2]\n",
    "\n",
    "    def query(self, node, start, end, l, r):\n",
    "        if r < start or end < l:\n",
    "            return 0\n",
    "\n",
    "        if l <= start and end <= r:\n",
    "            return self.tree[node]\n",
    "\n",
    "        mid = (start + end) // 2\n",
    "        left_sum = self.query(2 * node + 1, start, mid, l, r)\n",
    "        right_sum = self.query(2 * node + 2, mid + 1, end, l, r)\n",
    "        return left_sum + right_sum\n",
    "\n",
    "    def update(self, node, start, end, idx, val):\n",
    "        if start == end:\n",
    "            self.tree[node] = val\n",
    "            return\n",
    "\n",
    "        mid = (start + end) // 2\n",
    "        if idx <= mid:\n",
    "            self.update(2 * node + 1, start, mid, idx, val)\n",
    "        else:\n",
    "            self.update(2 * node + 2, mid + 1, end, idx, val)\n",
    "        self.tree[node] = self.tree[2 * node + 1] + self.tree[2 * node + 2]"
   ],
   "id": "5bc8cd3abe67e1cd",
   "outputs": [],
   "execution_count": 8
  },
  {
   "metadata": {
    "ExecuteTime": {
     "end_time": "2025-06-18T10:04:18.940914Z",
     "start_time": "2025-06-18T10:03:54.388902Z"
    }
   },
   "cell_type": "code",
   "source": [
    "# Example usage\n",
    "arr = [1, 3, 5, 7, 9, 11]\n",
    "st = SegmentTree(arr)\n",
    "\n",
    "# Query sum of range [1,3]\n",
    "print(f\"Sum of range [1,3]: {st.query(0, 0, len(arr) - 1, 1, 3)}\")\n",
    "\n",
    "# Update value at index 2 to 10\n",
    "st.update(0, 0, len(arr) - 1, 2, 10)\n",
    "\n",
    "# Query sum of same range after update\n",
    "print(f\"Sum of range [1,3] after update: {st.query(0, 0, len(arr) - 1, 1, 3)}\")\n"
   ],
   "id": "f4842a05c0005c5c",
   "outputs": [
    {
     "name": "stdout",
     "output_type": "stream",
     "text": [
      "Sum of range [1,3]: 15\n",
      "Sum of range [1,3] after update: 20\n"
     ]
    }
   ],
   "execution_count": 10
  }
 ],
 "metadata": {
  "kernelspec": {
   "display_name": "Python 3",
   "language": "python",
   "name": "python3"
  },
  "language_info": {
   "codemirror_mode": {
    "name": "ipython",
    "version": 2
   },
   "file_extension": ".py",
   "mimetype": "text/x-python",
   "name": "python",
   "nbconvert_exporter": "python",
   "pygments_lexer": "ipython2",
   "version": "2.7.6"
  }
 },
 "nbformat": 4,
 "nbformat_minor": 5
}
