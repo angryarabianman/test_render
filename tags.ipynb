{
 "cells": [
  {
   "metadata": {
    "collapsed": true,
    "tags": [
     "1"
    ]
   },
   "cell_type": "markdown",
   "source": "# this code cell have tag \"1\"",
   "id": "ff8007f7425aaee3"
  },
  {
   "metadata": {
    "tags": [
     "2"
    ]
   },
   "cell_type": "markdown",
   "source": "After converting it markdown type it become without tag",
   "id": "ae77b7f9b2dc27f"
  },
  {
   "metadata": {
    "tags": [
     "123",
     "other tag"
    ]
   },
   "cell_type": "markdown",
   "source": [
    "def some_some():\n",
    "    pass"
   ],
   "id": "7b26174a448c6fbb"
  },
  {
   "metadata": {
    "tags": [
     "other tag",
     "taggg"
    ],
    "SqlCellData": {
     "variableName$1": "df_sql1"
    }
   },
   "cell_type": "code",
   "outputs": [],
   "execution_count": null,
   "source": [
    "%%sql\n",
    "def some_some():\n",
    "    pass"
   ],
   "id": "a4bc61161a046369"
  }
 ],
 "metadata": {
  "kernelspec": {
   "display_name": "Python 3",
   "language": "python",
   "name": "python3"
  },
  "language_info": {
   "codemirror_mode": {
    "name": "ipython",
    "version": 2
   },
   "file_extension": ".py",
   "mimetype": "text/x-python",
   "name": "python",
   "nbconvert_exporter": "python",
   "pygments_lexer": "ipython2",
   "version": "2.7.6"
  }
 },
 "nbformat": 4,
 "nbformat_minor": 5
}
