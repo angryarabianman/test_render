{
 "cells": [
  {
   "metadata": {
    "collapsed": true,
    "tags": [
     "1"
    ]
   },
   "cell_type": "markdown",
   "source": "# this code cell have tag \"1\"",
   "id": "ff8007f7425aaee3"
  },
  {
   "metadata": {
    "tags": [
     "2"
    ]
   },
   "cell_type": "markdown",
   "source": "After converting it markdown type it become without tag",
   "id": "ae77b7f9b2dc27f"
  },
  {
   "metadata": {
    "tags": [
     "3"
    ]
   },
   "cell_type": "markdown",
   "source": [
    "def some_some():\n",
    "    pass"
   ],
   "id": "e92c11d5c8825c1e"
  },
  {
   "metadata": {
    "tags": [
     "12"
    ],
    "SqlCellData": {
     "variableName$1": "df_sql1"
    }
   },
   "cell_type": "code",
   "outputs": [],
   "execution_count": null,
   "source": [
    "%%sql\n",
    "def"
   ],
   "id": "ce0dfdcfc9bc1a03"
  }
 ],
 "metadata": {
  "kernelspec": {
   "display_name": "Python 3",
   "language": "python",
   "name": "python3"
  },
  "language_info": {
   "codemirror_mode": {
    "name": "ipython",
    "version": 2
   },
   "file_extension": ".py",
   "mimetype": "text/x-python",
   "name": "python",
   "nbconvert_exporter": "python",
   "pygments_lexer": "ipython2",
   "version": "2.7.6"
  }
 },
 "nbformat": 4,
 "nbformat_minor": 5
}
