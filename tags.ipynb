{
 "cells": [
  {
   "metadata": {
    "collapsed": true,
    "tags": [
     "1"
    ]
   },
   "cell_type": "markdown",
   "source": "# this code cell have tag \"1\"",
   "id": "ff8007f7425aaee3"
  },
  {
   "metadata": {
    "tags": [
     "2"
    ]
   },
   "cell_type": "markdown",
   "source": "After converting it markdown type it become without tag",
   "id": "ae77b7f9b2dc27f"
  },
  {
   "metadata": {
    "tags": [
     "Some tag 1",
     "t 3",
     "asd"
    ]
   },
   "cell_type": "markdown",
   "source": "some code",
   "id": "8c0eadb7dda83560"
  },
  {
   "metadata": {
    "tags": [
     "Some tag 1",
     "tagg 2",
     "123"
    ],
    "SqlCellData": {
     "variableName$1": "df_sql1"
    }
   },
   "cell_type": "code",
   "outputs": [],
   "execution_count": null,
   "source": [
    "%%sql\n",
    "some code 2"
   ],
   "id": "d485ea9767a3e7f3"
  },
  {
   "metadata": {
    "tags": [
     "tagagsgs",
     "soemrsoe",
     "sdfs"
    ]
   },
   "cell_type": "markdown",
   "source": "some tag problem",
   "id": "7512185f83bfe87a"
  },
  {
   "metadata": {
    "tags": [
     "qwerwe",
     "zxcvxc",
     "gklsmdglks"
    ],
    "SqlCellData": {
     "variableName$1": "df_sql2"
    }
   },
   "cell_type": "markdown",
   "source": "",
   "id": "ab01dcffb91e9204"
  },
  {
   "metadata": {
    "SqlCellData": {
     "variableName$1": "df_sql3"
    },
    "tags": [
     "фывфывфыфв"
    ]
   },
   "cell_type": "markdown",
   "source": "",
   "id": "c1dd0e00810fead2"
  },
  {
   "metadata": {},
   "cell_type": "raw",
   "source": "",
   "id": "824c79bf921d7691",
   "outputs": []
  },
  {
   "metadata": {
    "tags": [
     "йцуйцуйц",
     "фывфывфывф"
    ]
   },
   "cell_type": "markdown",
   "source": "афоыафыдлаофыд",
   "id": "3a5523badf71ecd4"
  }
 ],
 "metadata": {
  "kernelspec": {
   "display_name": "Python 3",
   "language": "python",
   "name": "python3"
  },
  "language_info": {
   "codemirror_mode": {
    "name": "ipython",
    "version": 2
   },
   "file_extension": ".py",
   "mimetype": "text/x-python",
   "name": "python",
   "nbconvert_exporter": "python",
   "pygments_lexer": "ipython2",
   "version": "2.7.6"
  }
 },
 "nbformat": 4,
 "nbformat_minor": 5
}
