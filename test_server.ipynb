{
 "cells": [
  {
   "cell_type": "code",
   "id": "initial_id",
   "metadata": {
    "collapsed": true,
    "ExecuteTime": {
     "end_time": "2025-06-18T09:58:07.976348Z",
     "start_time": "2025-06-18T09:58:07.855560Z"
    }
   },
   "source": "!hostname",
   "outputs": [
    {
     "name": "stdout",
     "output_type": "stream",
     "text": [
      "CY-UNIT-0228\r\n"
     ]
    }
   ],
   "execution_count": 1
  },
  {
   "metadata": {
    "ExecuteTime": {
     "end_time": "2025-06-18T09:59:31.312605Z",
     "start_time": "2025-06-18T09:59:25.862522Z"
    }
   },
   "cell_type": "code",
   "source": "!hostname",
   "id": "654455d7c60491b0",
   "outputs": [
    {
     "name": "stdout",
     "output_type": "stream",
     "text": [
      "srv-d1982jali9vc739nm84g-hibernate-97fddd966-xwxc5\r\n"
     ]
    }
   ],
   "execution_count": 1
  },
  {
   "metadata": {
    "ExecuteTime": {
     "end_time": "2025-06-18T09:59:49.507019Z",
     "start_time": "2025-06-18T09:59:44.179817Z"
    }
   },
   "cell_type": "code",
   "source": "!pwd",
   "id": "bd7d210c5963fd18",
   "outputs": [
    {
     "name": "stdout",
     "output_type": "stream",
     "text": [
      "/home/jovyan\r\n"
     ]
    }
   ],
   "execution_count": 2
  },
  {
   "metadata": {
    "ExecuteTime": {
     "end_time": "2025-06-18T10:00:03.477608Z",
     "start_time": "2025-06-18T10:00:03.359217Z"
    }
   },
   "cell_type": "code",
   "source": "!pwd",
   "id": "f1b1b9c07b7192f7",
   "outputs": [
    {
     "name": "stdout",
     "output_type": "stream",
     "text": [
      "/Users/ilya.misiukevich/PycharmProjects/test_render\r\n"
     ]
    }
   ],
   "execution_count": 1
  }
 ],
 "metadata": {
  "kernelspec": {
   "display_name": "Python 3",
   "language": "python",
   "name": "python3"
  },
  "language_info": {
   "codemirror_mode": {
    "name": "ipython",
    "version": 2
   },
   "file_extension": ".py",
   "mimetype": "text/x-python",
   "name": "python",
   "nbconvert_exporter": "python",
   "pygments_lexer": "ipython2",
   "version": "2.7.6"
  }
 },
 "nbformat": 4,
 "nbformat_minor": 5
}
