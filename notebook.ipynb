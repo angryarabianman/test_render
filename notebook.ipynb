{
 "cells": [
  {
   "metadata": {},
   "cell_type": "markdown",
   "source": [
    "# This is a sample Jupyter Notebook\n",
    "\n",
    "Below is an example of a code cell.\n",
    "Put your cursor into the cell and press Shift+Enter to execute it and select the next one, or click 'Run Cell' button.\n",
    "\n",
    "Press Double Shift to search everywhere for classes, files, tool windows, actions, and settings.\n",
    "\n",
    "To learn more about Jupyter Notebooks in PyCharm, see [help](https://www.jetbrains.com/help/pycharm/ipython-notebook-support.html).\n",
    "For an overview of PyCharm, go to Help -> Learn IDE features or refer to [our documentation](https://www.jetbrains.com/help/pycharm/getting-started.html)."
   ],
   "id": "b3e91205a92c8526"
  },
  {
   "metadata": {
    "jupyter": {
     "is_executing": true
    }
   },
   "cell_type": "code",
   "source": "print(\"Hello World!\")\n",
   "id": "fefc2ddab2140e16",
   "outputs": [],
   "execution_count": null
  },
  {
   "metadata": {
    "jupyter": {
     "is_executing": true
    }
   },
   "cell_type": "code",
   "source": "",
   "id": "69a7302f45ce8864",
   "outputs": [],
   "execution_count": null
  },
  {
   "metadata": {
    "jupyter": {
     "is_executing": true
    }
   },
   "cell_type": "code",
   "source": "",
   "id": "d8572dfaf280598c",
   "outputs": [],
   "execution_count": null
  },
  {
   "metadata": {},
   "cell_type": "markdown",
   "source": "some text\n",
   "id": "4db1f16409b3a167"
  },
  {
   "metadata": {},
   "cell_type": "markdown",
   "source": "another text",
   "id": "5f5c403176f78b3a"
  },
  {
   "metadata": {},
   "cell_type": "markdown",
   "source": [
    "Let's create some fun ASCII art animation using Python!\n",
    "\n"
   ],
   "id": "c09e3d8b7615ccca"
  },
  {
   "metadata": {},
   "cell_type": "markdown",
   "source": [
    "# Fun ASCII Animation\n",
    "Let's create a simple but entertaining animation of a dancing stick figure using ASCII art!"
   ],
   "id": "54279e280589c3e8"
  },
  {
   "metadata": {
    "jupyter": {
     "is_executing": true
    }
   },
   "cell_type": "code",
   "source": [
    "import time\n",
    "import os\n",
    "\n",
    "\n",
    "def clear_screen():\n",
    "    os.system('cls' if os.name == 'nt' else 'clear')\n",
    "\n",
    "\n",
    "dance_moves = [\n",
    "    '''\n",
    "     o\n",
    "    /|\\\\\n",
    "    / \\\\\n",
    "    ''',\n",
    "    '''\n",
    "     o\n",
    "    /|\\\\\n",
    "     |\n",
    "    ''',\n",
    "    '''\n",
    "     o\n",
    "    /|\\\\\n",
    "    / \\\\\n",
    "    ''',\n",
    "    '''\n",
    "     o\n",
    "    /|\\\\\n",
    "    | |\n",
    "    '''\n",
    "]\n",
    "\n",
    "for _ in range(20):\n",
    "    for frame in dance_moves:\n",
    "        clear_screen()\n",
    "        print(\"\\n\" * 2)\n",
    "        print(\"Let's dance!\")\n",
    "        print(frame)\n",
    "        time.sleep(0.3)"
   ],
   "id": "42544e2fbf4f85a",
   "outputs": [],
   "execution_count": null
  },
  {
   "metadata": {
    "jupyter": {
     "is_executing": true
    }
   },
   "cell_type": "code",
   "source": [
    "import random\n",
    "\n",
    "\n",
    "def generate_rainbow_text(text):\n",
    "    colors = ['\\033[91m', '\\033[93m', '\\033[92m', '\\033[94m', '\\033[95m', '\\033[96m']\n",
    "    reset = '\\033[0m'\n",
    "    rainbow = ''\n",
    "    for char in text:\n",
    "        if char.strip():\n",
    "            rainbow += random.choice(colors) + char + reset\n",
    "        else:\n",
    "            rainbow += char\n",
    "    return rainbow\n",
    "\n",
    "\n",
    "for _ in range(5):\n",
    "    print(generate_rainbow_text(\"🎉 Python is Awesome! 🎉\"))\n",
    "    time.sleep(0.5)"
   ],
   "id": "398a53281ee29644",
   "outputs": [],
   "execution_count": null
  },
  {
   "metadata": {
    "jupyter": {
     "is_executing": true
    }
   },
   "cell_type": "code",
   "source": [
    "import numpy as np\n",
    "import matplotlib.pyplot as plt\n",
    "\n",
    "# Create a fun spiral pattern\n",
    "t = np.linspace(0, 20 * np.pi, 1000)\n",
    "x = t * np.cos(t)\n",
    "y = t * np.sin(t)\n",
    "\n",
    "plt.figure(figsize=(8, 8))\n",
    "plt.plot(x, y, 'b-', linewidth=2)\n",
    "plt.title('Hypnotic Spiral')\n",
    "plt.axis('equal')\n",
    "plt.grid(True)\n",
    "plt.show()\n"
   ],
   "id": "5c2e025f51f03d1a",
   "outputs": [],
   "execution_count": null
  },
  {
   "metadata": {
    "jupyter": {
     "is_executing": true
    }
   },
   "cell_type": "code",
   "source": "print(some_new_variable)",
   "id": "aff06ec03a97407a",
   "outputs": [],
   "execution_count": null
  }
 ],
 "metadata": {
  "kernelspec": {
   "display_name": "Python 3",
   "language": "python",
   "name": "python3"
  },
  "language_info": {
   "codemirror_mode": {
    "name": "ipython",
    "version": 2
   },
   "file_extension": ".py",
   "mimetype": "text/x-python",
   "name": "python",
   "nbconvert_exporter": "python",
   "pygments_lexer": "ipython2",
   "version": "2.7.6"
  }
 },
 "nbformat": 4,
 "nbformat_minor": 5
}
