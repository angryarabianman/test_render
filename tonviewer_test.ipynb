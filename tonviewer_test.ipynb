{
 "cells": [
  {
   "metadata": {
    "ExecuteTime": {
     "end_time": "2025-06-19T10:08:48.309650Z",
     "start_time": "2025-06-19T10:08:48.307526Z"
    }
   },
   "cell_type": "code",
   "source": [
    "\"\"\"\n",
    "Creates a network visualization of transactions between refund receivers\n",
    "\"\"\"\n",
    "import networkx as nx\n",
    "import matplotlib.pyplot as plt\n",
    "from datetime import datetime\n",
    "import requests\n"
   ],
   "id": "16c8d86859d144f0",
   "outputs": [],
   "execution_count": 97
  },
  {
   "metadata": {
    "ExecuteTime": {
     "end_time": "2025-06-19T10:08:48.314831Z",
     "start_time": "2025-06-19T10:08:48.312301Z"
    }
   },
   "cell_type": "code",
   "source": [
    "def get_wallet_transactions(wallet_address: str, after_timestamp: int) -> list:\n",
    "    \"\"\"Fetch transactions for a specific wallet after given timestamp\"\"\"\n",
    "    url = f\"https://tonapi.io/v2/blockchain/accounts/{wallet_address}/transactions\"\n",
    "    params = {\"limit\": 100}  # Adjust limit as needed\n",
    "\n",
    "    try:\n",
    "        response = requests.get(url, headers=HEADERS, params=params, timeout=30)\n",
    "        response.raise_for_status()\n",
    "        return [tx for tx in response.json().get(\"transactions\", []) \n",
    "                if tx.get(\"created_at\", 0) > after_timestamp]\n",
    "    except Exception as e:\n",
    "        print(f\"Error fetching transactions for {wallet_address}: {e}\")\n",
    "        return []\n"
   ],
   "id": "fd9b7630ae685a66",
   "outputs": [],
   "execution_count": 98
  },
  {
   "metadata": {
    "ExecuteTime": {
     "end_time": "2025-06-19T10:08:48.319711Z",
     "start_time": "2025-06-19T10:08:48.316898Z"
    }
   },
   "cell_type": "code",
   "source": [
    "def create_transaction_network(refund_transactions):\n",
    "    \"\"\"Create and visualize transaction network\"\"\"\n",
    "    G = nx.DiGraph()\n",
    "\n",
    "    # Add nodes and edges\n",
    "    for wallet in refund_receivers:\n",
    "        G.add_node(wallet[:8] + \"...\", size=1000)  # Truncate address for readability\n",
    "\n",
    "        # Get transactions from this wallet\n",
    "        transactions = get_wallet_transactions(wallet, 0)  # Add proper timestamp\n",
    "\n",
    "        for tx in transactions:\n",
    "            for msg in tx.get(\"out_msgs\", []):\n",
    "                dest = msg.get(\"destination\", {}).get(\"address\")\n",
    "                if dest:\n",
    "                    dest_short = dest[:8] + \"...\"\n",
    "                    G.add_node(dest_short, size=500)\n",
    "                    G.add_edge(wallet[:8] + \"...\", dest_short, \n",
    "                             weight=msg.get(\"value\", 0) / 1e9)  # Convert to TON\n",
    "    return G\n"
   ],
   "id": "19baf3d0d9c53fd8",
   "outputs": [],
   "execution_count": 99
  },
  {
   "metadata": {
    "ExecuteTime": {
     "end_time": "2025-06-19T10:08:48.324619Z",
     "start_time": "2025-06-19T10:08:48.321811Z"
    }
   },
   "cell_type": "code",
   "source": [
    "def visualize_network(G):\n",
    "    \"\"\"Create and display network visualization\"\"\"\n",
    "    plt.figure(figsize=(12, 8))\n",
    "    pos = nx.spring_layout(G, k=1, iterations=50)\n",
    "\n",
    "    # Draw nodes\n",
    "    nx.draw_networkx_nodes(G, pos, \n",
    "                          node_color='lightblue',\n",
    "                          node_size=[G.nodes[node].get('size', 300) for node in G.nodes()],\n",
    "                          alpha=0.6)\n",
    "\n",
    "    # Draw edges with varying width based on transaction value\n",
    "    edge_weights = [G[u][v]['weight'] for u, v in G.edges()]\n",
    "    nx.draw_networkx_edges(G, pos, \n",
    "                          width=[max(0.5, min(2, w)) for w in edge_weights],\n",
    "                          alpha=0.4,\n",
    "                          edge_color='gray')\n",
    "\n",
    "    # Add labels\n",
    "    nx.draw_networkx_labels(G, pos, font_size=8)\n",
    "\n",
    "    plt.title(\"Transaction Network from Refund Recipients\")\n",
    "    plt.axis('off')\n",
    "    plt.show()\n"
   ],
   "id": "b6c5bbc42ead143c",
   "outputs": [],
   "execution_count": 100
  },
  {
   "metadata": {
    "ExecuteTime": {
     "end_time": "2025-06-19T10:08:48.714740Z",
     "start_time": "2025-06-19T10:08:48.327496Z"
    }
   },
   "cell_type": "code",
   "source": [
    "# Let's check the API limits and response details\n",
    "def check_api_limits():\n",
    "    test_wallet = next(iter(refund_wallets))\n",
    "    url = f\"https://tonapi.io/v2/blockchain/accounts/{test_wallet}/transactions\"\n",
    "    params = {\"limit\": 100}\n",
    "\n",
    "    print(\"Testing API with wallet:\", test_wallet[:8] + \"...\")\n",
    "    try:\n",
    "        response = requests.get(url, headers=HEADERS, params=params)\n",
    "\n",
    "        print(\"\\nResponse Status:\", response.status_code)\n",
    "        print(\"\\nResponse Headers:\")\n",
    "        for header, value in response.headers.items():\n",
    "            print(f\"{header}: {value}\")\n",
    "\n",
    "        if response.status_code == 429:\n",
    "            print(\"\\nRate Limit Response Body:\")\n",
    "            print(response.text)\n",
    "\n",
    "        print(\"\\nCurrent Headers being sent:\")\n",
    "        print(\"HEADERS =\", HEADERS)\n",
    "\n",
    "    except Exception as e:\n",
    "        print(f\"Error checking API limits: {e}\")\n",
    "\n",
    "check_api_limits()\n"
   ],
   "id": "687b35981332554d",
   "outputs": [
    {
     "name": "stdout",
     "output_type": "stream",
     "text": [
      "Testing API with wallet: 0:325501...\n",
      "\n",
      "Response Status: 200\n",
      "\n",
      "Response Headers:\n",
      "Date: Thu, 19 Jun 2025 10:08:48 GMT\n",
      "Content-Type: application/json; charset=utf-8\n",
      "Transfer-Encoding: chunked\n",
      "Connection: keep-alive\n",
      "access-control-allow-origin: *\n",
      "access-control-allow-credentials: true\n",
      "access-control-allow-methods: GET, POST, OPTIONS\n",
      "access-control-allow-headers: DNT,X-CustomHeader,Keep-Alive,User-Agent,X-Requested-With,If-Modified-Since,Cache-Control,Content-Type,Authorization,X-Tonapi-Client\n",
      "Content-Encoding: gzip\n",
      "cf-cache-status: DYNAMIC\n",
      "vary: accept-encoding\n",
      "Server: cloudflare\n",
      "CF-RAY: 95223a2e5964d625-LCA\n",
      "alt-svc: h3=\":443\"; ma=86400\n",
      "\n",
      "Current Headers being sent:\n",
      "HEADERS = {'accept': 'application/json'}\n"
     ]
    }
   ],
   "execution_count": 101
  },
  {
   "metadata": {
    "ExecuteTime": {
     "end_time": "2025-06-19T10:08:51.894111Z",
     "start_time": "2025-06-19T10:08:48.718887Z"
    }
   },
   "cell_type": "code",
   "source": [
    "# First, let's collect all transactions between refund wallets\n",
    "refund_wallets = set(refund_receivers)  # Convert to set for faster lookups\n",
    "connections = []\n",
    "\n",
    "for i, source_wallet in enumerate(refund_wallets):\n",
    "    print(f\"Processing wallet {i + 1}/{len(refund_wallets)}: {source_wallet[:8]}...\")\n",
    "\n",
    "    try:\n",
    "        transactions = get_wallet_transactions(source_wallet, 0)\n",
    "\n",
    "        for tx in transactions:\n",
    "            for msg in tx.get(\"out_msgs\", []):\n",
    "                dest = msg.get(\"destination\", {}).get(\"address\")\n",
    "                if dest in refund_wallets:  # Only track if destination is also a refund wallet\n",
    "                    connections.append({\n",
    "                        'from': source_wallet,\n",
    "                        'to': dest,\n",
    "                        'amount': msg.get(\"value\", 0) / 1e9,  # Convert to TON\n",
    "                        'timestamp': tx.get(\"created_at\", 0)\n",
    "                    })\n",
    "\n",
    "    except Exception as e:\n",
    "        print(f\"Error processing {source_wallet[:8]}...: {str(e)}\")\n",
    "        continue\n",
    "\n",
    "print(f\"\\nProcessed all {len(refund_wallets)} wallets. Found {len(connections)} connections.\")\n"
   ],
   "id": "60e98f28b00e9299",
   "outputs": [
    {
     "name": "stdout",
     "output_type": "stream",
     "text": [
      "Processing wallet 1/14: 0:325501...\n",
      "Processing wallet 2/14: 0:3f6076...\n",
      "Processing wallet 3/14: 0:d00ac9...\n",
      "Processing wallet 4/14: 0:b1ccf9...\n",
      "Processing wallet 5/14: 0:22d4e1...\n",
      "Processing wallet 6/14: 0:9d894e...\n",
      "Processing wallet 7/14: 0:daa21f...\n",
      "Processing wallet 8/14: 0:25dbba...\n",
      "Processing wallet 9/14: 0:35d019...\n",
      "Processing wallet 10/14: 0:9aa3d6...\n",
      "Processing wallet 11/14: 0:b868d5...\n",
      "Error fetching transactions for 0:b868d5092c9344d413df0095e7a0db91e407500b7b0e3b7ddcb9ae385a7f9e83: 429 Client Error: Too Many Requests for url: https://tonapi.io/v2/blockchain/accounts/0:b868d5092c9344d413df0095e7a0db91e407500b7b0e3b7ddcb9ae385a7f9e83/transactions?limit=100\n",
      "Processing wallet 12/14: 0:5b892b...\n",
      "Error fetching transactions for 0:5b892bed4f3a282ec9e88b27ed528f00fb3802268c1fcc408b8c9d09f901f86b: 429 Client Error: Too Many Requests for url: https://tonapi.io/v2/blockchain/accounts/0:5b892bed4f3a282ec9e88b27ed528f00fb3802268c1fcc408b8c9d09f901f86b/transactions?limit=100\n",
      "Processing wallet 13/14: 0:9b524a...\n",
      "Error fetching transactions for 0:9b524a9a994adfef65a08c356a4f09310ee48dd480048667bc3422e87b08bf5b: 429 Client Error: Too Many Requests for url: https://tonapi.io/v2/blockchain/accounts/0:9b524a9a994adfef65a08c356a4f09310ee48dd480048667bc3422e87b08bf5b/transactions?limit=100\n",
      "Processing wallet 14/14: 0:b7658d...\n",
      "Error fetching transactions for 0:b7658db76ec0bb445008e8700e8a787a77c3bcf57eefa571570e10ac5aa4b612: 429 Client Error: Too Many Requests for url: https://tonapi.io/v2/blockchain/accounts/0:b7658db76ec0bb445008e8700e8a787a77c3bcf57eefa571570e10ac5aa4b612/transactions?limit=100\n",
      "\n",
      "Processed all 14 wallets. Found 0 connections.\n"
     ]
    }
   ],
   "execution_count": 102
  },
  {
   "metadata": {
    "ExecuteTime": {
     "end_time": "2025-06-19T10:08:51.910699Z",
     "start_time": "2025-06-19T10:08:51.908006Z"
    }
   },
   "cell_type": "code",
   "source": [
    "# Print the connections in a readable format\n",
    "if connections:\n",
    "    print(\"Found the following transactions between refund wallets:\")\n",
    "    for conn in connections:\n",
    "        print(f\"From: {conn['from'][:8]}...\")\n",
    "        print(f\"To: {conn['to'][:8]}...\")\n",
    "        print(f\"Amount: {conn['amount']:.2f} TON\")\n",
    "        print(f\"Time: {datetime.fromtimestamp(conn['timestamp']).strftime('%Y-%m-%d %H:%M:%S')}\")\n",
    "        print(\"-\" * 50)\n",
    "else:\n",
    "    print(\"No transactions found between refund wallets!\")\n"
   ],
   "id": "342c4963b5af9536",
   "outputs": [
    {
     "name": "stdout",
     "output_type": "stream",
     "text": [
      "No transactions found between refund wallets!\n"
     ]
    }
   ],
   "execution_count": 103
  },
  {
   "metadata": {
    "ExecuteTime": {
     "end_time": "2025-06-19T10:08:51.920679Z",
     "start_time": "2025-06-19T10:08:51.916783Z"
    }
   },
   "cell_type": "code",
   "source": [
    "# Create a visualization of only the connected refund wallets\n",
    "G = nx.DiGraph()\n",
    "\n",
    "# Add edges only for wallets that have transactions between them\n",
    "for conn in connections:\n",
    "    from_short = conn['from'][:8] + \"...\"\n",
    "    to_short = conn['to'][:8] + \"...\"\n",
    "    G.add_edge(from_short, to_short, weight=conn['amount'])\n",
    "\n",
    "if G.number_of_edges() > 0:\n",
    "    plt.figure(figsize=(12, 8))\n",
    "    pos = nx.spring_layout(G, k=1, iterations=50)\n",
    "\n",
    "    # Draw nodes\n",
    "    nx.draw_networkx_nodes(G, pos, \n",
    "                          node_color='lightblue',\n",
    "                          node_size=1000,\n",
    "                          alpha=0.6)\n",
    "\n",
    "    # Draw edges with varying width based on transaction value\n",
    "    edge_weights = [G[u][v]['weight'] for u, v in G.edges()]\n",
    "    nx.draw_networkx_edges(G, pos, \n",
    "                          width=[max(0.5, min(2, w)) for w in edge_weights],\n",
    "                          alpha=0.4,\n",
    "                          edge_color='red',\n",
    "                          arrows=True,\n",
    "                          arrowsize=20)\n",
    "\n",
    "    # Add labels\n",
    "    nx.draw_networkx_labels(G, pos, font_size=8)\n",
    "\n",
    "    plt.title(\"Transactions Network Between Refund Recipients\")\n",
    "    plt.axis('off')\n",
    "    plt.show()\n",
    "else:\n",
    "    print(\"No connections to visualize!\")\n"
   ],
   "id": "d07a8daa35236870",
   "outputs": [
    {
     "name": "stdout",
     "output_type": "stream",
     "text": [
      "No connections to visualize!\n"
     ]
    }
   ],
   "execution_count": 104
  }
 ],
 "metadata": {
  "kernelspec": {
   "display_name": "Python 3",
   "language": "python",
   "name": "python3"
  },
  "language_info": {
   "codemirror_mode": {
    "name": "ipython",
    "version": 2
   },
   "file_extension": ".py",
   "mimetype": "text/x-python",
   "name": "python",
   "nbconvert_exporter": "python",
   "pygments_lexer": "ipython2",
   "version": "2.7.6"
  }
 },
 "nbformat": 4,
 "nbformat_minor": 5
}
